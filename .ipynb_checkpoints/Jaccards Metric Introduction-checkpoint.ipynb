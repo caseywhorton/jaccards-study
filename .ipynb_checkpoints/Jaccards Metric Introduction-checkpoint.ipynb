{
 "cells": [
  {
   "cell_type": "markdown",
   "metadata": {},
   "source": [
    "# Jaccard's Metric"
   ]
  },
  {
   "cell_type": "code",
   "execution_count": 1,
   "metadata": {},
   "outputs": [],
   "source": [
    "import pandas as pd\n",
    "import numpy as np\n",
    "\n",
    "from sklearn.datasets import fetch_covtype\n",
    "from sklearn.metrics import jaccard_score"
   ]
  },
  {
   "cell_type": "code",
   "execution_count": null,
   "metadata": {},
   "outputs": [],
   "source": []
  },
  {
   "cell_type": "code",
   "execution_count": 2,
   "metadata": {},
   "outputs": [],
   "source": [
    "data = fetch_covtype()\n",
    "df = pd.DataFrame(data = data.data.astype(int))"
   ]
  },
  {
   "cell_type": "code",
   "execution_count": null,
   "metadata": {},
   "outputs": [],
   "source": []
  },
  {
   "cell_type": "code",
   "execution_count": 3,
   "metadata": {},
   "outputs": [],
   "source": [
    "target = ['cover_type']\n",
    "wildcols = ['wilderness_'+str(i) for i in range(0,4)]\n",
    "soilcols = ['soil_'+str(i) for i in range(0,40)]\n",
    "\n",
    "X = pd.DataFrame(data = pd.concat([pd.DataFrame(data.target),df.iloc[:,-44:]],axis=1))\n",
    "X.columns = target + wildcols + soilcols"
   ]
  },
  {
   "cell_type": "code",
   "execution_count": 4,
   "metadata": {},
   "outputs": [
    {
     "data": {
      "text/html": [
       "<div>\n",
       "<style scoped>\n",
       "    .dataframe tbody tr th:only-of-type {\n",
       "        vertical-align: middle;\n",
       "    }\n",
       "\n",
       "    .dataframe tbody tr th {\n",
       "        vertical-align: top;\n",
       "    }\n",
       "\n",
       "    .dataframe thead th {\n",
       "        text-align: right;\n",
       "    }\n",
       "</style>\n",
       "<table border=\"1\" class=\"dataframe\">\n",
       "  <thead>\n",
       "    <tr style=\"text-align: right;\">\n",
       "      <th></th>\n",
       "      <th>cover_type</th>\n",
       "      <th>wilderness_0</th>\n",
       "      <th>wilderness_1</th>\n",
       "      <th>wilderness_2</th>\n",
       "      <th>wilderness_3</th>\n",
       "      <th>soil_0</th>\n",
       "      <th>soil_1</th>\n",
       "      <th>soil_2</th>\n",
       "      <th>soil_3</th>\n",
       "      <th>soil_4</th>\n",
       "      <th>...</th>\n",
       "      <th>soil_30</th>\n",
       "      <th>soil_31</th>\n",
       "      <th>soil_32</th>\n",
       "      <th>soil_33</th>\n",
       "      <th>soil_34</th>\n",
       "      <th>soil_35</th>\n",
       "      <th>soil_36</th>\n",
       "      <th>soil_37</th>\n",
       "      <th>soil_38</th>\n",
       "      <th>soil_39</th>\n",
       "    </tr>\n",
       "  </thead>\n",
       "  <tbody>\n",
       "    <tr>\n",
       "      <th>0</th>\n",
       "      <td>5</td>\n",
       "      <td>1</td>\n",
       "      <td>0</td>\n",
       "      <td>0</td>\n",
       "      <td>0</td>\n",
       "      <td>0</td>\n",
       "      <td>0</td>\n",
       "      <td>0</td>\n",
       "      <td>0</td>\n",
       "      <td>0</td>\n",
       "      <td>...</td>\n",
       "      <td>0</td>\n",
       "      <td>0</td>\n",
       "      <td>0</td>\n",
       "      <td>0</td>\n",
       "      <td>0</td>\n",
       "      <td>0</td>\n",
       "      <td>0</td>\n",
       "      <td>0</td>\n",
       "      <td>0</td>\n",
       "      <td>0</td>\n",
       "    </tr>\n",
       "    <tr>\n",
       "      <th>1</th>\n",
       "      <td>5</td>\n",
       "      <td>1</td>\n",
       "      <td>0</td>\n",
       "      <td>0</td>\n",
       "      <td>0</td>\n",
       "      <td>0</td>\n",
       "      <td>0</td>\n",
       "      <td>0</td>\n",
       "      <td>0</td>\n",
       "      <td>0</td>\n",
       "      <td>...</td>\n",
       "      <td>0</td>\n",
       "      <td>0</td>\n",
       "      <td>0</td>\n",
       "      <td>0</td>\n",
       "      <td>0</td>\n",
       "      <td>0</td>\n",
       "      <td>0</td>\n",
       "      <td>0</td>\n",
       "      <td>0</td>\n",
       "      <td>0</td>\n",
       "    </tr>\n",
       "  </tbody>\n",
       "</table>\n",
       "<p>2 rows × 45 columns</p>\n",
       "</div>"
      ],
      "text/plain": [
       "   cover_type  wilderness_0  wilderness_1  wilderness_2  wilderness_3  soil_0  \\\n",
       "0           5             1             0             0             0       0   \n",
       "1           5             1             0             0             0       0   \n",
       "\n",
       "   soil_1  soil_2  soil_3  soil_4  ...  soil_30  soil_31  soil_32  soil_33  \\\n",
       "0       0       0       0       0  ...        0        0        0        0   \n",
       "1       0       0       0       0  ...        0        0        0        0   \n",
       "\n",
       "   soil_34  soil_35  soil_36  soil_37  soil_38  soil_39  \n",
       "0        0        0        0        0        0        0  \n",
       "1        0        0        0        0        0        0  \n",
       "\n",
       "[2 rows x 45 columns]"
      ]
     },
     "execution_count": 4,
     "metadata": {},
     "output_type": "execute_result"
    }
   ],
   "source": [
    "X.iloc[0:2,:]"
   ]
  },
  {
   "cell_type": "code",
   "execution_count": null,
   "metadata": {},
   "outputs": [],
   "source": []
  },
  {
   "cell_type": "code",
   "execution_count": 5,
   "metadata": {},
   "outputs": [],
   "source": [
    "from sklearn.metrics import pairwise_distances\n",
    "from scipy.spatial.distance import jaccard\n",
    "from sklearn.metrics import pairwise_distances_chunked"
   ]
  },
  {
   "cell_type": "code",
   "execution_count": 6,
   "metadata": {},
   "outputs": [
    {
     "data": {
      "text/plain": [
       "1.0"
      ]
     },
     "execution_count": 6,
     "metadata": {},
     "output_type": "execute_result"
    }
   ],
   "source": [
    "jaccard_score(list(X.iloc[0,1:]),list(X.iloc[1,1:]))"
   ]
  },
  {
   "cell_type": "code",
   "execution_count": 7,
   "metadata": {},
   "outputs": [
    {
     "data": {
      "text/plain": [
       "0.3333333333333333"
      ]
     },
     "execution_count": 7,
     "metadata": {},
     "output_type": "execute_result"
    }
   ],
   "source": [
    "jaccard_score(list(X.iloc[0,1:]),list(X.iloc[3,1:]))"
   ]
  },
  {
   "cell_type": "code",
   "execution_count": 8,
   "metadata": {},
   "outputs": [
    {
     "data": {
      "text/plain": [
       "[[1, 1, 1], [1, 0, 1], [0, 0, 0]]"
      ]
     },
     "execution_count": 8,
     "metadata": {},
     "output_type": "execute_result"
    }
   ],
   "source": [
    "x = [[1,1,1],[1,0,1],[0,0,0]]\n",
    "x"
   ]
  },
  {
   "cell_type": "code",
   "execution_count": 9,
   "metadata": {},
   "outputs": [],
   "source": [
    "D = pairwise_distances(X[0:1000], metric = jaccard)\n",
    "\n",
    "#with mp.Pool() as pool:\n",
    "#    results = pool.map(print, next(D))"
   ]
  },
  {
   "cell_type": "code",
   "execution_count": 10,
   "metadata": {},
   "outputs": [
    {
     "data": {
      "text/plain": [
       "array([[0.        , 0.        , 0.75      , ..., 0.33333333, 0.75      ,\n",
       "        0.75      ],\n",
       "       [0.        , 0.        , 0.75      , ..., 0.33333333, 0.75      ,\n",
       "        0.75      ],\n",
       "       [0.75      , 0.75      , 0.        , ..., 0.5       , 0.75      ,\n",
       "        0.75      ],\n",
       "       ...,\n",
       "       [0.33333333, 0.33333333, 0.5       , ..., 0.        , 0.75      ,\n",
       "        0.75      ],\n",
       "       [0.75      , 0.75      , 0.75      , ..., 0.75      , 0.        ,\n",
       "        0.        ],\n",
       "       [0.75      , 0.75      , 0.75      , ..., 0.75      , 0.        ,\n",
       "        0.        ]])"
      ]
     },
     "execution_count": 10,
     "metadata": {},
     "output_type": "execute_result"
    }
   ],
   "source": [
    "\n",
    "D"
   ]
  },
  {
   "cell_type": "code",
   "execution_count": 49,
   "metadata": {},
   "outputs": [],
   "source": [
    "#h = next(D)"
   ]
  },
  {
   "cell_type": "code",
   "execution_count": 11,
   "metadata": {},
   "outputs": [],
   "source": [
    "from sklearn.cluster import AgglomerativeClustering"
   ]
  },
  {
   "cell_type": "code",
   "execution_count": 12,
   "metadata": {},
   "outputs": [
    {
     "name": "stderr",
     "output_type": "stream",
     "text": [
      "C:\\Users\\casey\\anaconda3\\lib\\site-packages\\scipy\\cluster\\hierarchy.py:826: ClusterWarning: scipy.cluster: The symmetric non-negative hollow observation matrix looks suspiciously like an uncondensed distance matrix\n",
      "  return linkage(y, method='ward', metric='euclidean')\n"
     ]
    },
    {
     "data": {
      "text/plain": [
       "array([1, 1, 0, 0, 1, 1, 1, 1, 1, 1, 0, 0, 0, 0, 0, 0, 1, 0, 0, 0, 0, 0,\n",
       "       0, 0, 0, 0, 0, 1, 0, 0, 0, 0, 0, 0, 0, 1, 0, 0, 0, 0, 0, 1, 0, 0,\n",
       "       0, 0, 0, 0, 0, 0, 0, 1, 0, 0, 0, 0, 0, 0, 0, 0, 0, 1, 0, 0, 0, 0,\n",
       "       0, 1, 0, 1, 0, 1, 1, 0, 1, 0, 0, 0, 0, 0, 0, 0, 1, 0, 0, 1, 1, 0,\n",
       "       0, 1, 0, 1, 0, 1, 1, 0, 1, 0, 0, 0, 1, 1, 1, 1, 0, 0, 0, 1, 1, 0,\n",
       "       1, 0, 0, 0, 0, 1, 1, 1, 0, 1, 0, 1, 1, 1, 1, 0, 0, 0, 1, 0, 0, 1,\n",
       "       0, 0, 0, 1, 0, 1, 1, 0, 1, 0, 0, 0, 0, 0, 0, 1, 0, 0, 1, 0, 0, 0,\n",
       "       1, 1, 1, 0, 0, 0, 1, 1, 1, 1, 1, 1, 1, 0, 0, 1, 0, 1, 1, 1, 1, 0,\n",
       "       1, 0, 0, 1, 1, 0, 1, 0, 1, 1, 1, 1, 0, 1, 1, 0, 0, 1, 0, 0, 1, 1,\n",
       "       0, 0, 0, 1, 1, 1, 1, 0, 0, 1, 0, 0, 1, 1, 0, 0, 0, 0, 0, 0, 1, 1,\n",
       "       1, 1, 0, 1, 0, 0, 1, 1, 0, 0, 1, 0, 1, 0, 0, 1, 0, 0, 1, 1, 0, 1,\n",
       "       0, 0, 1, 1, 1, 1, 0, 0, 0, 0, 0, 1, 0, 1, 0, 0, 1, 1, 0, 0, 1, 0,\n",
       "       1, 1, 1, 0, 0, 1, 1, 0, 0, 0, 0, 0, 0, 0, 0, 1, 1, 0, 0, 1, 1, 0,\n",
       "       0, 1, 0, 0, 0, 0, 1, 0, 0, 0, 0, 0, 1, 0, 1, 1, 0, 0, 1, 0, 0, 1,\n",
       "       1, 0, 0, 0, 0, 0, 0, 0, 0, 1, 0, 0, 0, 0, 0, 1, 0, 1, 0, 0, 0, 1,\n",
       "       1, 1, 0, 1, 0, 1, 1, 0, 1, 1, 1, 0, 0, 0, 1, 0, 1, 1, 0, 0, 0, 1,\n",
       "       0, 1, 1, 0, 0, 0, 0, 1, 0, 0, 1, 0, 0, 0, 0, 0, 0, 0, 1, 0, 1, 1,\n",
       "       1, 1, 0, 1, 1, 1, 0, 1, 1, 0, 0, 0, 0, 0, 1, 0, 0, 0, 0, 0, 0, 0,\n",
       "       0, 0, 1, 1, 0, 0, 0, 0, 0, 0, 0, 1, 1, 1, 1, 0, 0, 0, 0, 0, 0, 0,\n",
       "       0, 0, 0, 1, 1, 0, 0, 0, 0, 0, 0, 0, 1, 0, 0, 1, 0, 1, 1, 1, 0, 0,\n",
       "       1, 1, 0, 1, 1, 0, 1, 0, 1, 0, 0, 0, 1, 0, 0, 0, 1, 0, 0, 0, 0, 1,\n",
       "       0, 1, 1, 0, 1, 0, 1, 0, 0, 1, 1, 0, 0, 0, 0, 1, 1, 1, 0, 1, 0, 0,\n",
       "       1, 1, 1, 0, 1, 1, 1, 1, 1, 0, 1, 0, 0, 0, 0, 1, 1, 1, 0, 0, 1, 1,\n",
       "       1, 1, 1, 1, 1, 1, 1, 1, 1, 1, 0, 1, 0, 0, 1, 0, 0, 0, 1, 1, 0, 0,\n",
       "       0, 1, 0, 1, 0, 0, 1, 1, 0, 1, 1, 0, 0, 1, 0, 0, 0, 0, 1, 0, 0, 0,\n",
       "       0, 0, 0, 0, 0, 1, 1, 0, 0, 0, 0, 1, 1, 0, 1, 1, 0, 0, 0, 1, 1, 0,\n",
       "       0, 1, 1, 0, 0, 0, 0, 0, 0, 0, 0, 0, 0, 0, 1, 0, 0, 1, 1, 1, 1, 0,\n",
       "       0, 1, 0, 0, 1, 0, 0, 1, 1, 1, 1, 1, 1, 1, 1, 0, 1, 0, 1, 1, 1, 1,\n",
       "       0, 0, 0, 1, 0, 0, 0, 1, 0, 0, 1, 1, 0, 0, 0, 1, 1, 0, 1, 0, 0, 0,\n",
       "       1, 1, 0, 0, 1, 1, 1, 0, 1, 1, 1, 1, 1, 1, 0, 1, 0, 1, 0, 0, 0, 1,\n",
       "       0, 1, 0, 1, 1, 1, 1, 0, 1, 0, 1, 1, 1, 0, 0, 1, 1, 0, 0, 1, 1, 1,\n",
       "       1, 1, 1, 1, 1, 1, 1, 1, 1, 1, 1, 0, 1, 1, 1, 0, 0, 0, 1, 0, 0, 1,\n",
       "       1, 1, 0, 1, 1, 1, 0, 0, 1, 1, 1, 1, 1, 1, 1, 0, 1, 1, 1, 0, 1, 1,\n",
       "       0, 1, 0, 1, 0, 0, 0, 1, 0, 0, 0, 1, 1, 1, 0, 0, 0, 1, 0, 0, 1, 0,\n",
       "       1, 1, 1, 1, 0, 1, 0, 0, 1, 0, 1, 1, 0, 1, 0, 0, 0, 0, 0, 0, 1, 0,\n",
       "       0, 1, 0, 1, 1, 1, 1, 1, 0, 1, 1, 1, 0, 0, 0, 0, 0, 0, 1, 0, 0, 0,\n",
       "       0, 1, 0, 0, 1, 1, 0, 0, 1, 1, 0, 0, 0, 0, 1, 0, 1, 1, 0, 1, 1, 0,\n",
       "       0, 0, 0, 0, 0, 0, 0, 0, 0, 0, 0, 0, 0, 0, 1, 0, 0, 1, 0, 1, 0, 0,\n",
       "       1, 0, 0, 0, 1, 0, 0, 1, 0, 1, 0, 1, 1, 0, 0, 0, 0, 0, 0, 0, 0, 0,\n",
       "       0, 1, 0, 0, 0, 0, 0, 0, 1, 0, 0, 0, 0, 1, 0, 0, 0, 0, 1, 1, 0, 0,\n",
       "       0, 0, 0, 0, 1, 1, 0, 0, 0, 0, 0, 0, 0, 1, 1, 1, 1, 1, 0, 1, 1, 1,\n",
       "       1, 0, 1, 1, 1, 1, 0, 0, 1, 0, 0, 0, 0, 0, 1, 0, 0, 1, 1, 0, 1, 1,\n",
       "       1, 0, 1, 0, 0, 1, 1, 1, 0, 1, 1, 1, 1, 1, 1, 1, 0, 1, 1, 1, 1, 1,\n",
       "       0, 0, 0, 1, 0, 0, 0, 0, 1, 1, 0, 1, 0, 1, 1, 0, 0, 0, 0, 1, 0, 0,\n",
       "       0, 0, 0, 1, 1, 0, 0, 0, 1, 0, 0, 1, 1, 0, 1, 1, 1, 1, 1, 0, 0, 0,\n",
       "       1, 1, 1, 1, 0, 0, 0, 1, 0, 0], dtype=int64)"
      ]
     },
     "execution_count": 12,
     "metadata": {},
     "output_type": "execute_result"
    }
   ],
   "source": [
    "\n",
    "import numpy as np\n",
    "\n",
    "clustering = AgglomerativeClustering().fit(D)\n",
    "clustering\n",
    "\n",
    "clustering.labels_"
   ]
  },
  {
   "cell_type": "code",
   "execution_count": 15,
   "metadata": {},
   "outputs": [
    {
     "data": {
      "text/plain": [
       "\u001b[1;31mType:\u001b[0m        AgglomerativeClustering\n",
       "\u001b[1;31mString form:\u001b[0m AgglomerativeClustering()\n",
       "\u001b[1;31mFile:\u001b[0m        c:\\users\\casey\\anaconda3\\lib\\site-packages\\sklearn\\cluster\\_agglomerative.py\n",
       "\u001b[1;31mDocstring:\u001b[0m  \n",
       "Agglomerative Clustering\n",
       "\n",
       "Recursively merges the pair of clusters that minimally increases\n",
       "a given linkage distance.\n",
       "\n",
       "Read more in the :ref:`User Guide <hierarchical_clustering>`.\n",
       "\n",
       "Parameters\n",
       "----------\n",
       "n_clusters : int or None, default=2\n",
       "    The number of clusters to find. It must be ``None`` if\n",
       "    ``distance_threshold`` is not ``None``.\n",
       "\n",
       "affinity : str or callable, default='euclidean'\n",
       "    Metric used to compute the linkage. Can be \"euclidean\", \"l1\", \"l2\",\n",
       "    \"manhattan\", \"cosine\", or \"precomputed\".\n",
       "    If linkage is \"ward\", only \"euclidean\" is accepted.\n",
       "    If \"precomputed\", a distance matrix (instead of a similarity matrix)\n",
       "    is needed as input for the fit method.\n",
       "\n",
       "memory : str or object with the joblib.Memory interface, default=None\n",
       "    Used to cache the output of the computation of the tree.\n",
       "    By default, no caching is done. If a string is given, it is the\n",
       "    path to the caching directory.\n",
       "\n",
       "connectivity : array-like or callable, default=None\n",
       "    Connectivity matrix. Defines for each sample the neighboring\n",
       "    samples following a given structure of the data.\n",
       "    This can be a connectivity matrix itself or a callable that transforms\n",
       "    the data into a connectivity matrix, such as derived from\n",
       "    kneighbors_graph. Default is None, i.e, the\n",
       "    hierarchical clustering algorithm is unstructured.\n",
       "\n",
       "compute_full_tree : 'auto' or bool, default='auto'\n",
       "    Stop early the construction of the tree at n_clusters. This is useful\n",
       "    to decrease computation time if the number of clusters is not small\n",
       "    compared to the number of samples. This option is useful only when\n",
       "    specifying a connectivity matrix. Note also that when varying the\n",
       "    number of clusters and using caching, it may be advantageous to compute\n",
       "    the full tree. It must be ``True`` if ``distance_threshold`` is not\n",
       "    ``None``. By default `compute_full_tree` is \"auto\", which is equivalent\n",
       "    to `True` when `distance_threshold` is not `None` or that `n_clusters`\n",
       "    is inferior to the maximum between 100 or `0.02 * n_samples`.\n",
       "    Otherwise, \"auto\" is equivalent to `False`.\n",
       "\n",
       "linkage : {\"ward\", \"complete\", \"average\", \"single\"}, default=\"ward\"\n",
       "    Which linkage criterion to use. The linkage criterion determines which\n",
       "    distance to use between sets of observation. The algorithm will merge\n",
       "    the pairs of cluster that minimize this criterion.\n",
       "\n",
       "    - ward minimizes the variance of the clusters being merged.\n",
       "    - average uses the average of the distances of each observation of\n",
       "      the two sets.\n",
       "    - complete or maximum linkage uses the maximum distances between\n",
       "      all observations of the two sets.\n",
       "    - single uses the minimum of the distances between all observations\n",
       "      of the two sets.\n",
       "\n",
       "    .. versionadded:: 0.20\n",
       "        Added the 'single' option\n",
       "\n",
       "distance_threshold : float, default=None\n",
       "    The linkage distance threshold above which, clusters will not be\n",
       "    merged. If not ``None``, ``n_clusters`` must be ``None`` and\n",
       "    ``compute_full_tree`` must be ``True``.\n",
       "\n",
       "    .. versionadded:: 0.21\n",
       "\n",
       "Attributes\n",
       "----------\n",
       "n_clusters_ : int\n",
       "    The number of clusters found by the algorithm. If\n",
       "    ``distance_threshold=None``, it will be equal to the given\n",
       "    ``n_clusters``.\n",
       "\n",
       "labels_ : ndarray of shape (n_samples)\n",
       "    cluster labels for each point\n",
       "\n",
       "n_leaves_ : int\n",
       "    Number of leaves in the hierarchical tree.\n",
       "\n",
       "n_connected_components_ : int\n",
       "    The estimated number of connected components in the graph.\n",
       "\n",
       "    .. versionadded:: 0.21\n",
       "        ``n_connected_components_`` was added to replace ``n_components_``.\n",
       "\n",
       "children_ : array-like of shape (n_samples-1, 2)\n",
       "    The children of each non-leaf node. Values less than `n_samples`\n",
       "    correspond to leaves of the tree which are the original samples.\n",
       "    A node `i` greater than or equal to `n_samples` is a non-leaf\n",
       "    node and has children `children_[i - n_samples]`. Alternatively\n",
       "    at the i-th iteration, children[i][0] and children[i][1]\n",
       "    are merged to form node `n_samples + i`\n",
       "\n",
       "Examples\n",
       "--------\n",
       ">>> from sklearn.cluster import AgglomerativeClustering\n",
       ">>> import numpy as np\n",
       ">>> X = np.array([[1, 2], [1, 4], [1, 0],\n",
       "...               [4, 2], [4, 4], [4, 0]])\n",
       ">>> clustering = AgglomerativeClustering().fit(X)\n",
       ">>> clustering\n",
       "AgglomerativeClustering()\n",
       ">>> clustering.labels_\n",
       "array([1, 1, 1, 0, 0, 0])\n"
      ]
     },
     "metadata": {},
     "output_type": "display_data"
    }
   ],
   "source": [
    "clustering?"
   ]
  },
  {
   "cell_type": "code",
   "execution_count": 19,
   "metadata": {},
   "outputs": [
    {
     "data": {
      "text/plain": [
       "\u001b[1;31mSignature:\u001b[0m \u001b[0mlinkage\u001b[0m\u001b[1;33m(\u001b[0m\u001b[0my\u001b[0m\u001b[1;33m,\u001b[0m \u001b[0mmethod\u001b[0m\u001b[1;33m=\u001b[0m\u001b[1;34m'single'\u001b[0m\u001b[1;33m,\u001b[0m \u001b[0mmetric\u001b[0m\u001b[1;33m=\u001b[0m\u001b[1;34m'euclidean'\u001b[0m\u001b[1;33m,\u001b[0m \u001b[0moptimal_ordering\u001b[0m\u001b[1;33m=\u001b[0m\u001b[1;32mFalse\u001b[0m\u001b[1;33m)\u001b[0m\u001b[1;33m\u001b[0m\u001b[1;33m\u001b[0m\u001b[0m\n",
       "\u001b[1;31mDocstring:\u001b[0m\n",
       "Perform hierarchical/agglomerative clustering.\n",
       "\n",
       "The input y may be either a 1-D condensed distance matrix\n",
       "or a 2-D array of observation vectors.\n",
       "\n",
       "If y is a 1-D condensed distance matrix,\n",
       "then y must be a :math:`\\binom{n}{2}` sized\n",
       "vector, where n is the number of original observations paired\n",
       "in the distance matrix. The behavior of this function is very\n",
       "similar to the MATLAB linkage function.\n",
       "\n",
       "A :math:`(n-1)` by 4 matrix ``Z`` is returned. At the\n",
       ":math:`i`-th iteration, clusters with indices ``Z[i, 0]`` and\n",
       "``Z[i, 1]`` are combined to form cluster :math:`n + i`. A\n",
       "cluster with an index less than :math:`n` corresponds to one of\n",
       "the :math:`n` original observations. The distance between\n",
       "clusters ``Z[i, 0]`` and ``Z[i, 1]`` is given by ``Z[i, 2]``. The\n",
       "fourth value ``Z[i, 3]`` represents the number of original\n",
       "observations in the newly formed cluster.\n",
       "\n",
       "The following linkage methods are used to compute the distance\n",
       ":math:`d(s, t)` between two clusters :math:`s` and\n",
       ":math:`t`. The algorithm begins with a forest of clusters that\n",
       "have yet to be used in the hierarchy being formed. When two\n",
       "clusters :math:`s` and :math:`t` from this forest are combined\n",
       "into a single cluster :math:`u`, :math:`s` and :math:`t` are\n",
       "removed from the forest, and :math:`u` is added to the\n",
       "forest. When only one cluster remains in the forest, the algorithm\n",
       "stops, and this cluster becomes the root.\n",
       "\n",
       "A distance matrix is maintained at each iteration. The ``d[i,j]``\n",
       "entry corresponds to the distance between cluster :math:`i` and\n",
       ":math:`j` in the original forest.\n",
       "\n",
       "At each iteration, the algorithm must update the distance matrix\n",
       "to reflect the distance of the newly formed cluster u with the\n",
       "remaining clusters in the forest.\n",
       "\n",
       "Suppose there are :math:`|u|` original observations\n",
       ":math:`u[0], \\ldots, u[|u|-1]` in cluster :math:`u` and\n",
       ":math:`|v|` original objects :math:`v[0], \\ldots, v[|v|-1]` in\n",
       "cluster :math:`v`. Recall, :math:`s` and :math:`t` are\n",
       "combined to form cluster :math:`u`. Let :math:`v` be any\n",
       "remaining cluster in the forest that is not :math:`u`.\n",
       "\n",
       "The following are methods for calculating the distance between the\n",
       "newly formed cluster :math:`u` and each :math:`v`.\n",
       "\n",
       "  * method='single' assigns\n",
       "\n",
       "    .. math::\n",
       "       d(u,v) = \\min(dist(u[i],v[j]))\n",
       "\n",
       "    for all points :math:`i` in cluster :math:`u` and\n",
       "    :math:`j` in cluster :math:`v`. This is also known as the\n",
       "    Nearest Point Algorithm.\n",
       "\n",
       "  * method='complete' assigns\n",
       "\n",
       "    .. math::\n",
       "       d(u, v) = \\max(dist(u[i],v[j]))\n",
       "\n",
       "    for all points :math:`i` in cluster u and :math:`j` in\n",
       "    cluster :math:`v`. This is also known by the Farthest Point\n",
       "    Algorithm or Voor Hees Algorithm.\n",
       "\n",
       "  * method='average' assigns\n",
       "\n",
       "    .. math::\n",
       "       d(u,v) = \\sum_{ij} \\frac{d(u[i], v[j])}\n",
       "                               {(|u|*|v|)}\n",
       "\n",
       "    for all points :math:`i` and :math:`j` where :math:`|u|`\n",
       "    and :math:`|v|` are the cardinalities of clusters :math:`u`\n",
       "    and :math:`v`, respectively. This is also called the UPGMA\n",
       "    algorithm.\n",
       "\n",
       "  * method='weighted' assigns\n",
       "\n",
       "    .. math::\n",
       "       d(u,v) = (dist(s,v) + dist(t,v))/2\n",
       "\n",
       "    where cluster u was formed with cluster s and t and v\n",
       "    is a remaining cluster in the forest (also called WPGMA).\n",
       "\n",
       "  * method='centroid' assigns\n",
       "\n",
       "    .. math::\n",
       "       dist(s,t) = ||c_s-c_t||_2\n",
       "\n",
       "    where :math:`c_s` and :math:`c_t` are the centroids of\n",
       "    clusters :math:`s` and :math:`t`, respectively. When two\n",
       "    clusters :math:`s` and :math:`t` are combined into a new\n",
       "    cluster :math:`u`, the new centroid is computed over all the\n",
       "    original objects in clusters :math:`s` and :math:`t`. The\n",
       "    distance then becomes the Euclidean distance between the\n",
       "    centroid of :math:`u` and the centroid of a remaining cluster\n",
       "    :math:`v` in the forest. This is also known as the UPGMC\n",
       "    algorithm.\n",
       "\n",
       "  * method='median' assigns :math:`d(s,t)` like the ``centroid``\n",
       "    method. When two clusters :math:`s` and :math:`t` are combined\n",
       "    into a new cluster :math:`u`, the average of centroids s and t\n",
       "    give the new centroid :math:`u`. This is also known as the\n",
       "    WPGMC algorithm.\n",
       "\n",
       "  * method='ward' uses the Ward variance minimization algorithm.\n",
       "    The new entry :math:`d(u,v)` is computed as follows,\n",
       "\n",
       "    .. math::\n",
       "\n",
       "       d(u,v) = \\sqrt{\\frac{|v|+|s|}\n",
       "                           {T}d(v,s)^2\n",
       "                    + \\frac{|v|+|t|}\n",
       "                           {T}d(v,t)^2\n",
       "                    - \\frac{|v|}\n",
       "                           {T}d(s,t)^2}\n",
       "\n",
       "    where :math:`u` is the newly joined cluster consisting of\n",
       "    clusters :math:`s` and :math:`t`, :math:`v` is an unused\n",
       "    cluster in the forest, :math:`T=|v|+|s|+|t|`, and\n",
       "    :math:`|*|` is the cardinality of its argument. This is also\n",
       "    known as the incremental algorithm.\n",
       "\n",
       "Warning: When the minimum distance pair in the forest is chosen, there\n",
       "may be two or more pairs with the same minimum distance. This\n",
       "implementation may choose a different minimum than the MATLAB\n",
       "version.\n",
       "\n",
       "Parameters\n",
       "----------\n",
       "y : ndarray\n",
       "    A condensed distance matrix. A condensed distance matrix\n",
       "    is a flat array containing the upper triangular of the distance matrix.\n",
       "    This is the form that ``pdist`` returns. Alternatively, a collection of\n",
       "    :math:`m` observation vectors in :math:`n` dimensions may be passed as\n",
       "    an :math:`m` by :math:`n` array. All elements of the condensed distance\n",
       "    matrix must be finite, i.e., no NaNs or infs.\n",
       "method : str, optional\n",
       "    The linkage algorithm to use. See the ``Linkage Methods`` section below\n",
       "    for full descriptions.\n",
       "metric : str or function, optional\n",
       "    The distance metric to use in the case that y is a collection of\n",
       "    observation vectors; ignored otherwise. See the ``pdist``\n",
       "    function for a list of valid distance metrics. A custom distance\n",
       "    function can also be used.\n",
       "optimal_ordering : bool, optional\n",
       "    If True, the linkage matrix will be reordered so that the distance\n",
       "    between successive leaves is minimal. This results in a more intuitive\n",
       "    tree structure when the data are visualized. defaults to False, because\n",
       "    this algorithm can be slow, particularly on large datasets [2]_. See\n",
       "    also the `optimal_leaf_ordering` function.\n",
       "\n",
       "    .. versionadded:: 1.0.0\n",
       "\n",
       "Returns\n",
       "-------\n",
       "Z : ndarray\n",
       "    The hierarchical clustering encoded as a linkage matrix.\n",
       "\n",
       "Notes\n",
       "-----\n",
       "1. For method 'single', an optimized algorithm based on minimum spanning\n",
       "   tree is implemented. It has time complexity :math:`O(n^2)`.\n",
       "   For methods 'complete', 'average', 'weighted' and 'ward', an algorithm\n",
       "   called nearest-neighbors chain is implemented. It also has time\n",
       "   complexity :math:`O(n^2)`.\n",
       "   For other methods, a naive algorithm is implemented with :math:`O(n^3)`\n",
       "   time complexity.\n",
       "   All algorithms use :math:`O(n^2)` memory.\n",
       "   Refer to [1]_ for details about the algorithms.\n",
       "2. Methods 'centroid', 'median', and 'ward' are correctly defined only if\n",
       "   Euclidean pairwise metric is used. If `y` is passed as precomputed\n",
       "   pairwise distances, then it is the user's responsibility to assure that\n",
       "   these distances are in fact Euclidean, otherwise the produced result\n",
       "   will be incorrect.\n",
       "\n",
       "See Also\n",
       "--------\n",
       "scipy.spatial.distance.pdist : pairwise distance metrics\n",
       "\n",
       "References\n",
       "----------\n",
       ".. [1] Daniel Mullner, \"Modern hierarchical, agglomerative clustering\n",
       "       algorithms\", :arXiv:`1109.2378v1`.\n",
       ".. [2] Ziv Bar-Joseph, David K. Gifford, Tommi S. Jaakkola, \"Fast optimal\n",
       "       leaf ordering for hierarchical clustering\", 2001. Bioinformatics\n",
       "       :doi:`10.1093/bioinformatics/17.suppl_1.S22`\n",
       "\n",
       "Examples\n",
       "--------\n",
       ">>> from scipy.cluster.hierarchy import dendrogram, linkage\n",
       ">>> from matplotlib import pyplot as plt\n",
       ">>> X = [[i] for i in [2, 8, 0, 4, 1, 9, 9, 0]]\n",
       "\n",
       ">>> Z = linkage(X, 'ward')\n",
       ">>> fig = plt.figure(figsize=(25, 10))\n",
       ">>> dn = dendrogram(Z)\n",
       "\n",
       ">>> Z = linkage(X, 'single')\n",
       ">>> fig = plt.figure(figsize=(25, 10))\n",
       ">>> dn = dendrogram(Z)\n",
       ">>> plt.show()\n",
       "\u001b[1;31mFile:\u001b[0m      c:\\users\\casey\\anaconda3\\lib\\site-packages\\scipy\\cluster\\hierarchy.py\n",
       "\u001b[1;31mType:\u001b[0m      function\n"
      ]
     },
     "metadata": {},
     "output_type": "display_data"
    }
   ],
   "source": [
    "linkage?"
   ]
  },
  {
   "cell_type": "code",
   "execution_count": 18,
   "metadata": {},
   "outputs": [
    {
     "name": "stderr",
     "output_type": "stream",
     "text": [
      "<ipython-input-18-2557857826c7>:4: ClusterWarning: scipy.cluster: The symmetric non-negative hollow observation matrix looks suspiciously like an uncondensed distance matrix\n",
      "  linked = linkage(D, 'average')\n"
     ]
    },
    {
     "data": {
      "image/png": "[encoded data removed]",
      "text/plain": [
       "<Figure size 720x504 with 1 Axes>"
      ]
     },
     "metadata": {
      "needs_background": "light"
     },
     "output_type": "display_data"
    }
   ],
   "source": [
    "from scipy.cluster.hierarchy import dendrogram, linkage\n",
    "from matplotlib import pyplot as plt\n",
    "\n",
    "linked = linkage(D, 'average')\n",
    "\n",
    "labelList = clustering.labels_\n",
    "\n",
    "plt.figure(figsize=(10, 7))\n",
    "dendrogram(linked,\n",
    "            orientation='top',\n",
    "            labels=labelList,\n",
    "            distance_sort='descending',\n",
    "            show_leaf_counts=True)\n",
    "plt.show()"
   ]
  },
  {
   "cell_type": "code",
   "execution_count": 12,
   "metadata": {},
   "outputs": [
    {
     "data": {
      "text/plain": [
       "[[1, 1, 1], [1, 0, 1], [0, 0, 0]]"
      ]
     },
     "execution_count": 12,
     "metadata": {},
     "output_type": "execute_result"
    }
   ],
   "source": []
  },
  {
   "cell_type": "code",
   "execution_count": null,
   "metadata": {},
   "outputs": [],
   "source": []
  }
 ],
 "metadata": {
  "kernelspec": {
   "display_name": "Python 3",
   "language": "python",
   "name": "python3"
  },
  "language_info": {
   "codemirror_mode": {
    "name": "ipython",
    "version": 3
   },
   "file_extension": ".py",
   "mimetype": "text/x-python",
   "name": "python",
   "nbconvert_exporter": "python",
   "pygments_lexer": "ipython3",
   "version": "3.8.5"
  }
 },
 "nbformat": 4,
 "nbformat_minor": 4
}
